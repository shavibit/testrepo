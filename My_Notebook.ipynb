{
 "cells": [
  {
   "cell_type": "code",
   "execution_count": null,
   "id": "137790cf-66ed-4e71-a27e-0ad16e9f0f3b",
   "metadata": {},
   "outputs": [],
   "source": []
  },
  {
   "cell_type": "markdown",
   "id": "96ca0c49-0fa8-4d5a-8263-4876b90b0bac",
   "metadata": {
    "tags": []
   },
   "source": [
    "i am avinash kumar"
   ]
  },
  {
   "cell_type": "markdown",
   "execution_count": null,
   "id": "98d66883-a5e3-4996-9a1b-cf0d0ae9cc3c",
   "metadata": {},
   "outputs": [],
   "source": [ "i love jyoti" ]
  },
  {
   "cell_type": "code",
   "execution_count": null,
   "id": "ded302ed-a37c-46d7-b991-61608cfd7da7",
   "metadata": {},
   "outputs": [],
   "source": []
  }
 ],
 "metadata": {
  "kernelspec": {
   "display_name": "Python",
   "language": "python",
   "name": "conda-env-python-py"
  },
  "language_info": {
   "codemirror_mode": {
    "name": "ipython",
    "version": 3
   },
   "file_extension": ".py",
   "mimetype": "text/x-python",
   "name": "python",
   "nbconvert_exporter": "python",
   "pygments_lexer": "ipython3",
   "version": "3.7.12"
  }
 },
 "nbformat": 4,
 "nbformat_minor": 5
}
